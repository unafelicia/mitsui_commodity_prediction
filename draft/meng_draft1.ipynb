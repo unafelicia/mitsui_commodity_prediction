{
 "cells": [
  {
   "cell_type": "code",
   "id": "initial_id",
   "metadata": {
    "collapsed": true,
    "ExecuteTime": {
     "end_time": "2025-09-11T18:47:51.760587Z",
     "start_time": "2025-09-11T18:47:51.759116Z"
    }
   },
   "source": [
    "import numpy as np\n",
    "import matplotlib.pyplot as plt\n",
    "import pandas as pd\n",
    "import seaborn as sns"
   ],
   "outputs": [],
   "execution_count": 1
  },
  {
   "metadata": {
    "ExecuteTime": {
     "end_time": "2025-09-11T18:47:51.837391Z",
     "start_time": "2025-09-11T18:47:51.774248Z"
    }
   },
   "cell_type": "code",
   "source": "df = pd.read_csv('train.csv')",
   "id": "b4ea4c39b98437f5",
   "outputs": [],
   "execution_count": 2
  },
  {
   "metadata": {
    "ExecuteTime": {
     "end_time": "2025-09-11T18:47:51.887894Z",
     "start_time": "2025-09-11T18:47:51.874028Z"
    }
   },
   "cell_type": "code",
   "source": "df.info()",
   "id": "d1729d445013390d",
   "outputs": [
    {
     "name": "stdout",
     "output_type": "stream",
     "text": [
      "<class 'pandas.core.frame.DataFrame'>\n",
      "RangeIndex: 1961 entries, 0 to 1960\n",
      "Columns: 558 entries, date_id to FX_ZARGBP\n",
      "dtypes: float64(557), int64(1)\n",
      "memory usage: 8.3 MB\n"
     ]
    }
   ],
   "execution_count": 3
  },
  {
   "metadata": {
    "ExecuteTime": {
     "end_time": "2025-09-11T18:47:52.069758Z",
     "start_time": "2025-09-11T18:47:51.899347Z"
    }
   },
   "cell_type": "code",
   "source": "df.describe()",
   "id": "217308dc4c7e834a",
   "outputs": [
    {
     "data": {
      "text/plain": [
       "           date_id  LME_AH_Close  LME_CA_Close  LME_PB_Close  LME_ZS_Close  \\\n",
       "count  1961.000000   1910.000000   1910.000000   1910.000000   1910.000000   \n",
       "mean    980.000000   2252.202853   7928.229026   2085.848576   2795.022628   \n",
       "std     566.236258    398.544566   1523.186335    183.154551    445.009643   \n",
       "min       0.000000   1462.000000   4630.000000   1585.500000   1815.500000   \n",
       "25%     490.000000   1925.250000   6396.125000   1973.000000   2479.500000   \n",
       "50%     980.000000   2245.500000   8260.750000   2070.750000   2771.000000   \n",
       "75%    1470.000000   2512.000000   9323.375000   2188.000000   3031.000000   \n",
       "max    1960.000000   3849.000000  10889.000000   2681.000000   4498.500000   \n",
       "\n",
       "       JPX_Gold_Mini_Futures_Open  JPX_Gold_Rolling-Spot_Futures_Open  \\\n",
       "count                 1845.000000                         1845.000000   \n",
       "mean                  7693.877507                         7758.334417   \n",
       "std                   3062.235504                         3127.499852   \n",
       "min                   4171.000000                         4216.000000   \n",
       "25%                   5197.000000                         5210.000000   \n",
       "50%                   6622.000000                         6659.000000   \n",
       "75%                   8947.500000                         8975.000000   \n",
       "max                  16270.000000                        16400.000000   \n",
       "\n",
       "       JPX_Gold_Standard_Futures_Open  JPX_Platinum_Mini_Futures_Open  \\\n",
       "count                     1845.000000                     1845.000000   \n",
       "mean                      7694.050407                     3792.407046   \n",
       "std                       3062.510197                      721.833890   \n",
       "min                       4171.000000                     2200.000000   \n",
       "25%                       5197.000000                     3160.000000   \n",
       "50%                       6619.000000                     3802.500000   \n",
       "75%                       8946.000000                     4326.000000   \n",
       "max                      16277.000000                     6272.500000   \n",
       "\n",
       "       JPX_Platinum_Standard_Futures_Open  ...    FX_GBPCAD    FX_CADCHF  \\\n",
       "count                         1845.000000  ...  1961.000000  1961.000000   \n",
       "mean                          3793.646070  ...     1.710787     0.703105   \n",
       "std                            723.465805  ...     0.067369     0.049470   \n",
       "min                           2164.000000  ...     1.472061     0.579407   \n",
       "25%                           3156.000000  ...     1.684365     0.663481   \n",
       "50%                           3803.000000  ...     1.713406     0.719225   \n",
       "75%                           4329.000000  ...     1.743424     0.744981   \n",
       "max                           6280.000000  ...     1.881218     0.788635   \n",
       "\n",
       "         FX_NZDCAD    FX_NZDCHF    FX_ZAREUR    FX_NOKGBP    FX_NOKCHF  \\\n",
       "count  1961.000000  1961.000000  1961.000000  1961.000000  1961.000000   \n",
       "mean      0.856095     0.602847     0.056007     0.082366     0.099372   \n",
       "std       0.036205     0.059288     0.005752     0.007005     0.013947   \n",
       "min       0.767636     0.466372     0.045552     0.069614     0.076132   \n",
       "25%       0.825814     0.546662     0.050591     0.074915     0.084064   \n",
       "50%       0.853417     0.615227     0.056036     0.083721     0.101440   \n",
       "75%       0.883287     0.649179     0.060573     0.087033     0.109417   \n",
       "max       0.950091     0.710020     0.070469     0.094472     0.125403   \n",
       "\n",
       "         FX_ZARCHF    FX_NOKJPY    FX_ZARGBP  \n",
       "count  1961.000000  1961.000000  1961.000000  \n",
       "mean      0.058701    13.096718     0.048583  \n",
       "std       0.009828     0.969003     0.005338  \n",
       "min       0.042087     9.618859     0.039464  \n",
       "25%       0.048954    12.546578     0.043391  \n",
       "50%       0.058030    13.266953     0.048661  \n",
       "75%       0.066195    13.808442     0.052472  \n",
       "max       0.081612    15.314668     0.062025  \n",
       "\n",
       "[8 rows x 558 columns]"
      ],
      "text/html": [
       "<div>\n",
       "<style scoped>\n",
       "    .dataframe tbody tr th:only-of-type {\n",
       "        vertical-align: middle;\n",
       "    }\n",
       "\n",
       "    .dataframe tbody tr th {\n",
       "        vertical-align: top;\n",
       "    }\n",
       "\n",
       "    .dataframe thead th {\n",
       "        text-align: right;\n",
       "    }\n",
       "</style>\n",
       "<table border=\"1\" class=\"dataframe\">\n",
       "  <thead>\n",
       "    <tr style=\"text-align: right;\">\n",
       "      <th></th>\n",
       "      <th>date_id</th>\n",
       "      <th>LME_AH_Close</th>\n",
       "      <th>LME_CA_Close</th>\n",
       "      <th>LME_PB_Close</th>\n",
       "      <th>LME_ZS_Close</th>\n",
       "      <th>JPX_Gold_Mini_Futures_Open</th>\n",
       "      <th>JPX_Gold_Rolling-Spot_Futures_Open</th>\n",
       "      <th>JPX_Gold_Standard_Futures_Open</th>\n",
       "      <th>JPX_Platinum_Mini_Futures_Open</th>\n",
       "      <th>JPX_Platinum_Standard_Futures_Open</th>\n",
       "      <th>...</th>\n",
       "      <th>FX_GBPCAD</th>\n",
       "      <th>FX_CADCHF</th>\n",
       "      <th>FX_NZDCAD</th>\n",
       "      <th>FX_NZDCHF</th>\n",
       "      <th>FX_ZAREUR</th>\n",
       "      <th>FX_NOKGBP</th>\n",
       "      <th>FX_NOKCHF</th>\n",
       "      <th>FX_ZARCHF</th>\n",
       "      <th>FX_NOKJPY</th>\n",
       "      <th>FX_ZARGBP</th>\n",
       "    </tr>\n",
       "  </thead>\n",
       "  <tbody>\n",
       "    <tr>\n",
       "      <th>count</th>\n",
       "      <td>1961.000000</td>\n",
       "      <td>1910.000000</td>\n",
       "      <td>1910.000000</td>\n",
       "      <td>1910.000000</td>\n",
       "      <td>1910.000000</td>\n",
       "      <td>1845.000000</td>\n",
       "      <td>1845.000000</td>\n",
       "      <td>1845.000000</td>\n",
       "      <td>1845.000000</td>\n",
       "      <td>1845.000000</td>\n",
       "      <td>...</td>\n",
       "      <td>1961.000000</td>\n",
       "      <td>1961.000000</td>\n",
       "      <td>1961.000000</td>\n",
       "      <td>1961.000000</td>\n",
       "      <td>1961.000000</td>\n",
       "      <td>1961.000000</td>\n",
       "      <td>1961.000000</td>\n",
       "      <td>1961.000000</td>\n",
       "      <td>1961.000000</td>\n",
       "      <td>1961.000000</td>\n",
       "    </tr>\n",
       "    <tr>\n",
       "      <th>mean</th>\n",
       "      <td>980.000000</td>\n",
       "      <td>2252.202853</td>\n",
       "      <td>7928.229026</td>\n",
       "      <td>2085.848576</td>\n",
       "      <td>2795.022628</td>\n",
       "      <td>7693.877507</td>\n",
       "      <td>7758.334417</td>\n",
       "      <td>7694.050407</td>\n",
       "      <td>3792.407046</td>\n",
       "      <td>3793.646070</td>\n",
       "      <td>...</td>\n",
       "      <td>1.710787</td>\n",
       "      <td>0.703105</td>\n",
       "      <td>0.856095</td>\n",
       "      <td>0.602847</td>\n",
       "      <td>0.056007</td>\n",
       "      <td>0.082366</td>\n",
       "      <td>0.099372</td>\n",
       "      <td>0.058701</td>\n",
       "      <td>13.096718</td>\n",
       "      <td>0.048583</td>\n",
       "    </tr>\n",
       "    <tr>\n",
       "      <th>std</th>\n",
       "      <td>566.236258</td>\n",
       "      <td>398.544566</td>\n",
       "      <td>1523.186335</td>\n",
       "      <td>183.154551</td>\n",
       "      <td>445.009643</td>\n",
       "      <td>3062.235504</td>\n",
       "      <td>3127.499852</td>\n",
       "      <td>3062.510197</td>\n",
       "      <td>721.833890</td>\n",
       "      <td>723.465805</td>\n",
       "      <td>...</td>\n",
       "      <td>0.067369</td>\n",
       "      <td>0.049470</td>\n",
       "      <td>0.036205</td>\n",
       "      <td>0.059288</td>\n",
       "      <td>0.005752</td>\n",
       "      <td>0.007005</td>\n",
       "      <td>0.013947</td>\n",
       "      <td>0.009828</td>\n",
       "      <td>0.969003</td>\n",
       "      <td>0.005338</td>\n",
       "    </tr>\n",
       "    <tr>\n",
       "      <th>min</th>\n",
       "      <td>0.000000</td>\n",
       "      <td>1462.000000</td>\n",
       "      <td>4630.000000</td>\n",
       "      <td>1585.500000</td>\n",
       "      <td>1815.500000</td>\n",
       "      <td>4171.000000</td>\n",
       "      <td>4216.000000</td>\n",
       "      <td>4171.000000</td>\n",
       "      <td>2200.000000</td>\n",
       "      <td>2164.000000</td>\n",
       "      <td>...</td>\n",
       "      <td>1.472061</td>\n",
       "      <td>0.579407</td>\n",
       "      <td>0.767636</td>\n",
       "      <td>0.466372</td>\n",
       "      <td>0.045552</td>\n",
       "      <td>0.069614</td>\n",
       "      <td>0.076132</td>\n",
       "      <td>0.042087</td>\n",
       "      <td>9.618859</td>\n",
       "      <td>0.039464</td>\n",
       "    </tr>\n",
       "    <tr>\n",
       "      <th>25%</th>\n",
       "      <td>490.000000</td>\n",
       "      <td>1925.250000</td>\n",
       "      <td>6396.125000</td>\n",
       "      <td>1973.000000</td>\n",
       "      <td>2479.500000</td>\n",
       "      <td>5197.000000</td>\n",
       "      <td>5210.000000</td>\n",
       "      <td>5197.000000</td>\n",
       "      <td>3160.000000</td>\n",
       "      <td>3156.000000</td>\n",
       "      <td>...</td>\n",
       "      <td>1.684365</td>\n",
       "      <td>0.663481</td>\n",
       "      <td>0.825814</td>\n",
       "      <td>0.546662</td>\n",
       "      <td>0.050591</td>\n",
       "      <td>0.074915</td>\n",
       "      <td>0.084064</td>\n",
       "      <td>0.048954</td>\n",
       "      <td>12.546578</td>\n",
       "      <td>0.043391</td>\n",
       "    </tr>\n",
       "    <tr>\n",
       "      <th>50%</th>\n",
       "      <td>980.000000</td>\n",
       "      <td>2245.500000</td>\n",
       "      <td>8260.750000</td>\n",
       "      <td>2070.750000</td>\n",
       "      <td>2771.000000</td>\n",
       "      <td>6622.000000</td>\n",
       "      <td>6659.000000</td>\n",
       "      <td>6619.000000</td>\n",
       "      <td>3802.500000</td>\n",
       "      <td>3803.000000</td>\n",
       "      <td>...</td>\n",
       "      <td>1.713406</td>\n",
       "      <td>0.719225</td>\n",
       "      <td>0.853417</td>\n",
       "      <td>0.615227</td>\n",
       "      <td>0.056036</td>\n",
       "      <td>0.083721</td>\n",
       "      <td>0.101440</td>\n",
       "      <td>0.058030</td>\n",
       "      <td>13.266953</td>\n",
       "      <td>0.048661</td>\n",
       "    </tr>\n",
       "    <tr>\n",
       "      <th>75%</th>\n",
       "      <td>1470.000000</td>\n",
       "      <td>2512.000000</td>\n",
       "      <td>9323.375000</td>\n",
       "      <td>2188.000000</td>\n",
       "      <td>3031.000000</td>\n",
       "      <td>8947.500000</td>\n",
       "      <td>8975.000000</td>\n",
       "      <td>8946.000000</td>\n",
       "      <td>4326.000000</td>\n",
       "      <td>4329.000000</td>\n",
       "      <td>...</td>\n",
       "      <td>1.743424</td>\n",
       "      <td>0.744981</td>\n",
       "      <td>0.883287</td>\n",
       "      <td>0.649179</td>\n",
       "      <td>0.060573</td>\n",
       "      <td>0.087033</td>\n",
       "      <td>0.109417</td>\n",
       "      <td>0.066195</td>\n",
       "      <td>13.808442</td>\n",
       "      <td>0.052472</td>\n",
       "    </tr>\n",
       "    <tr>\n",
       "      <th>max</th>\n",
       "      <td>1960.000000</td>\n",
       "      <td>3849.000000</td>\n",
       "      <td>10889.000000</td>\n",
       "      <td>2681.000000</td>\n",
       "      <td>4498.500000</td>\n",
       "      <td>16270.000000</td>\n",
       "      <td>16400.000000</td>\n",
       "      <td>16277.000000</td>\n",
       "      <td>6272.500000</td>\n",
       "      <td>6280.000000</td>\n",
       "      <td>...</td>\n",
       "      <td>1.881218</td>\n",
       "      <td>0.788635</td>\n",
       "      <td>0.950091</td>\n",
       "      <td>0.710020</td>\n",
       "      <td>0.070469</td>\n",
       "      <td>0.094472</td>\n",
       "      <td>0.125403</td>\n",
       "      <td>0.081612</td>\n",
       "      <td>15.314668</td>\n",
       "      <td>0.062025</td>\n",
       "    </tr>\n",
       "  </tbody>\n",
       "</table>\n",
       "<p>8 rows × 558 columns</p>\n",
       "</div>"
      ]
     },
     "execution_count": 4,
     "metadata": {},
     "output_type": "execute_result"
    }
   ],
   "execution_count": 4
  },
  {
   "metadata": {
    "ExecuteTime": {
     "end_time": "2025-09-11T18:47:52.092304Z",
     "start_time": "2025-09-11T18:47:52.089588Z"
    }
   },
   "cell_type": "code",
   "source": "df.shape",
   "id": "58d3560f77a885d9",
   "outputs": [
    {
     "data": {
      "text/plain": [
       "(1961, 558)"
      ]
     },
     "execution_count": 5,
     "metadata": {},
     "output_type": "execute_result"
    }
   ],
   "execution_count": 5
  },
  {
   "metadata": {
    "ExecuteTime": {
     "end_time": "2025-09-11T18:47:52.168278Z",
     "start_time": "2025-09-11T18:47:52.164791Z"
    }
   },
   "cell_type": "code",
   "source": "df.isnull().sum()",
   "id": "fcac23fe11c834b2",
   "outputs": [
    {
     "data": {
      "text/plain": [
       "date_id          0\n",
       "LME_AH_Close    51\n",
       "LME_CA_Close    51\n",
       "LME_PB_Close    51\n",
       "LME_ZS_Close    51\n",
       "                ..\n",
       "FX_NOKGBP        0\n",
       "FX_NOKCHF        0\n",
       "FX_ZARCHF        0\n",
       "FX_NOKJPY        0\n",
       "FX_ZARGBP        0\n",
       "Length: 558, dtype: int64"
      ]
     },
     "execution_count": 6,
     "metadata": {},
     "output_type": "execute_result"
    }
   ],
   "execution_count": 6
  },
  {
   "metadata": {
    "ExecuteTime": {
     "end_time": "2025-09-11T18:47:52.174961Z",
     "start_time": "2025-09-11T18:47:52.173104Z"
    }
   },
   "cell_type": "code",
   "source": "# 需要明白每个变量的意思",
   "id": "abab52e85b74a1e1",
   "outputs": [],
   "execution_count": 7
  },
  {
   "metadata": {
    "ExecuteTime": {
     "end_time": "2025-09-11T18:47:52.220747Z",
     "start_time": "2025-09-11T18:47:52.218837Z"
    }
   },
   "cell_type": "code",
   "source": [
    "# 类型1: 价格 （开盘价、收盘价、高低价）\n",
    "# 1：LME（伦敦金属交易所）\n",
    "# 2：JPX（日本交易所）\n",
    "# 3：US stock market（美国股市）"
   ],
   "id": "4c672bfca943707d",
   "outputs": [],
   "execution_count": 8
  },
  {
   "metadata": {
    "ExecuteTime": {
     "end_time": "2025-09-11T18:47:52.225155Z",
     "start_time": "2025-09-11T18:47:52.223620Z"
    }
   },
   "cell_type": "code",
   "source": "# 类型2： 成交量",
   "id": "ee82adb102fc2c42",
   "outputs": [],
   "execution_count": 9
  },
  {
   "metadata": {
    "ExecuteTime": {
     "end_time": "2025-09-11T18:47:52.239636Z",
     "start_time": "2025-09-11T18:47:52.237549Z"
    }
   },
   "cell_type": "code",
   "source": [
    "# 类型3: 外汇\n",
    "# FX_AUDUSD – 澳元兑美元\n",
    "# FX_EURJPY – 欧元兑日元\n",
    "# FX_GBPUSD – 英镑兑美元\n",
    "# FX_USDJPY – 美元兑日元\n",
    "# FX_ZARJPY – 南非兰特兑日元"
   ],
   "id": "846aa5592cdbeb4",
   "outputs": [],
   "execution_count": 10
  },
  {
   "metadata": {
    "ExecuteTime": {
     "end_time": "2025-09-11T18:47:52.276443Z",
     "start_time": "2025-09-11T18:47:52.274165Z"
    }
   },
   "cell_type": "code",
   "source": "# 类型4: 结算价 （期货合约的官方结算价）",
   "id": "73c47945f27e68c8",
   "outputs": [],
   "execution_count": 11
  },
  {
   "metadata": {
    "ExecuteTime": {
     "end_time": "2025-09-11T18:47:52.523051Z",
     "start_time": "2025-09-11T18:47:52.521545Z"
    }
   },
   "cell_type": "code",
   "source": "# 缺失值如何处理？  - Heliang",
   "id": "4c853e18f9d51962",
   "outputs": [],
   "execution_count": 12
  },
  {
   "metadata": {},
   "cell_type": "code",
   "outputs": [],
   "execution_count": null,
   "source": "",
   "id": "47175ebff8189903"
  },
  {
   "metadata": {
    "ExecuteTime": {
     "end_time": "2025-09-11T23:58:37.200810Z",
     "start_time": "2025-09-11T23:58:37.050210Z"
    }
   },
   "cell_type": "code",
   "source": [
    "# 处理缺失值\n",
    "# if 是价格相关，用rolling 3 days price\n",
    "# LME, JPX, US\n",
    "# 只要出现close， open, high, low 其中一个，就用rolling 3 days mean来填充\n",
    "price_keywords = ['OPEN', 'CLOSE', 'HIGH', 'LOW']\n",
    "price_cols = [col for col in df.columns if any(k in col.upper() for k in price_keywords)]\n",
    "for col in price_cols:\n",
    "    df[col] = df[col].fillna(df[col].rolling(window=3, min_periods=1).mean())"
   ],
   "id": "403fa709409d204",
   "outputs": [],
   "execution_count": 18
  },
  {
   "metadata": {
    "ExecuteTime": {
     "end_time": "2025-09-11T23:58:37.727335Z",
     "start_time": "2025-09-11T23:58:37.709060Z"
    }
   },
   "cell_type": "code",
   "source": "df.isnull().sum()",
   "id": "8e136a6a8940d9b0",
   "outputs": [
    {
     "data": {
      "text/plain": [
       "date_id         0\n",
       "LME_AH_Close    0\n",
       "LME_CA_Close    0\n",
       "LME_PB_Close    0\n",
       "LME_ZS_Close    0\n",
       "               ..\n",
       "FX_NOKGBP       0\n",
       "FX_NOKCHF       0\n",
       "FX_ZARCHF       0\n",
       "FX_NOKJPY       0\n",
       "FX_ZARGBP       0\n",
       "Length: 558, dtype: int64"
      ]
     },
     "execution_count": 19,
     "metadata": {},
     "output_type": "execute_result"
    }
   ],
   "execution_count": 19
  },
  {
   "metadata": {},
   "cell_type": "code",
   "outputs": [],
   "execution_count": null,
   "source": [
    "# if 外汇价格，用当月的均值来填充\n",
    "fx_keywords = ['FX_']\n",
    "fx_cols = [col for col in df.columns if any(k in col for k in fx_keywords)]\n",
    "for col in fx_cols:\n",
    "    df[col] = df[col].fillna(df[col].rolling(window=3, min_periods=1).mean())"
   ],
   "id": "a16bfd312ba9d050"
  },
  {
   "metadata": {
    "ExecuteTime": {
     "end_time": "2025-09-12T00:00:06.449277Z",
     "start_time": "2025-09-12T00:00:06.410057Z"
    }
   },
   "cell_type": "code",
   "source": "df.isnull().sum()",
   "id": "6e716bad0a3432ad",
   "outputs": [
    {
     "data": {
      "text/plain": [
       "date_id         0\n",
       "LME_AH_Close    0\n",
       "LME_CA_Close    0\n",
       "LME_PB_Close    0\n",
       "LME_ZS_Close    0\n",
       "               ..\n",
       "FX_NOKGBP       0\n",
       "FX_NOKCHF       0\n",
       "FX_ZARCHF       0\n",
       "FX_NOKJPY       0\n",
       "FX_ZARGBP       0\n",
       "Length: 558, dtype: int64"
      ]
     },
     "execution_count": 20,
     "metadata": {},
     "output_type": "execute_result"
    }
   ],
   "execution_count": 20
  },
  {
   "metadata": {
    "ExecuteTime": {
     "end_time": "2025-09-12T00:00:33.616594Z",
     "start_time": "2025-09-12T00:00:33.594081Z"
    }
   },
   "cell_type": "code",
   "source": [
    "# if 成交量，用0来填充\n",
    "volume_keywords = ['VOLUME', 'VOL']\n",
    "volume_cols = [col for col in df.columns if any(k in col.upper() for k in volume_keywords)]\n",
    "for col in volume_cols:\n",
    "    df[col] = df[col].fillna(0)"
   ],
   "id": "d4bdf02a0b7a1d9d",
   "outputs": [],
   "execution_count": 22
  },
  {
   "metadata": {
    "ExecuteTime": {
     "end_time": "2025-09-12T00:00:54.241082Z",
     "start_time": "2025-09-12T00:00:54.218416Z"
    }
   },
   "cell_type": "code",
   "source": [
    "# if 结算价，用前一天的结算价来填充\n",
    "settle_keywords = ['SETTLE']\n",
    "settle_cols = [col for col in df.columns if any(k in col.upper() for k in settle_keywords)]\n",
    "for col in settle_cols:\n",
    "    df[col] = df[col].fillna(method='ffill')"
   ],
   "id": "faac092af7cf67",
   "outputs": [
    {
     "name": "stderr",
     "output_type": "stream",
     "text": [
      "/var/folders/sp/86lyqnpx3hj4kmbg3ll3gyf80000gn/T/ipykernel_15107/922400420.py:5: FutureWarning: Series.fillna with 'method' is deprecated and will raise in a future version. Use obj.ffill() or obj.bfill() instead.\n",
      "  df[col] = df[col].fillna(method='ffill')\n"
     ]
    }
   ],
   "execution_count": 23
  },
  {
   "metadata": {
    "ExecuteTime": {
     "end_time": "2025-09-12T00:01:12.542011Z",
     "start_time": "2025-09-12T00:01:12.512053Z"
    }
   },
   "cell_type": "code",
   "source": "df.isnull().sum().sum()",
   "id": "e34bb8803f829fc1",
   "outputs": [
    {
     "data": {
      "text/plain": [
       "7250"
      ]
     },
     "execution_count": 25,
     "metadata": {},
     "output_type": "execute_result"
    }
   ],
   "execution_count": 25
  },
  {
   "metadata": {
    "ExecuteTime": {
     "end_time": "2025-09-12T00:01:36.287368Z",
     "start_time": "2025-09-12T00:01:36.258612Z"
    }
   },
   "cell_type": "code",
   "source": [
    "# others - fill with 0\n",
    "df = df.fillna(0)"
   ],
   "id": "bda2e5e77b64320a",
   "outputs": [],
   "execution_count": 26
  },
  {
   "metadata": {
    "ExecuteTime": {
     "end_time": "2025-09-12T00:01:40.079118Z",
     "start_time": "2025-09-12T00:01:40.061806Z"
    }
   },
   "cell_type": "code",
   "source": "df.isnull().sum().sum()",
   "id": "b14caa0dabc3aff7",
   "outputs": [
    {
     "data": {
      "text/plain": [
       "0"
      ]
     },
     "execution_count": 27,
     "metadata": {},
     "output_type": "execute_result"
    }
   ],
   "execution_count": 27
  },
  {
   "metadata": {
    "ExecuteTime": {
     "end_time": "2025-09-12T00:02:03.036328Z",
     "start_time": "2025-09-12T00:02:02.398877Z"
    }
   },
   "cell_type": "code",
   "source": "df.describe()",
   "id": "e8544760b78f166a",
   "outputs": [
    {
     "data": {
      "text/plain": [
       "           date_id  LME_AH_Close  LME_CA_Close  LME_PB_Close  LME_ZS_Close  \\\n",
       "count  1961.000000   1961.000000   1961.000000   1961.000000    1961.00000   \n",
       "mean    980.000000   2252.358338   7929.504686   2085.602514    2796.42719   \n",
       "std     566.236258    399.043335   1523.980345    183.455254     448.96586   \n",
       "min       0.000000   1462.000000   4630.000000   1585.500000    1815.50000   \n",
       "25%     490.000000   1925.000000   6400.000000   1972.500000    2479.50000   \n",
       "50%     980.000000   2246.500000   8267.000000   2070.000000    2773.50000   \n",
       "75%    1470.000000   2511.000000   9322.000000   2188.500000    3031.00000   \n",
       "max    1960.000000   3849.000000  10889.000000   2681.000000    4498.50000   \n",
       "\n",
       "       JPX_Gold_Mini_Futures_Open  JPX_Gold_Rolling-Spot_Futures_Open  \\\n",
       "count                 1961.000000                         1961.000000   \n",
       "mean                  7646.008669                         7709.972463   \n",
       "std                   3102.888131                         3167.539525   \n",
       "min                      0.000000                            0.000000   \n",
       "25%                   5193.500000                         5205.000000   \n",
       "50%                   6611.000000                         6646.000000   \n",
       "75%                   8932.500000                         8961.000000   \n",
       "max                  16270.000000                        16400.000000   \n",
       "\n",
       "       JPX_Gold_Standard_Futures_Open  JPX_Platinum_Mini_Futures_Open  \\\n",
       "count                     1961.000000                     1961.000000   \n",
       "mean                      7646.197348                     3769.324707   \n",
       "std                       3103.167665                      772.398790   \n",
       "min                          0.000000                        0.000000   \n",
       "25%                       5193.000000                     3152.000000   \n",
       "50%                       6613.000000                     3791.500000   \n",
       "75%                       8932.000000                     4325.000000   \n",
       "max                      16277.000000                     6272.500000   \n",
       "\n",
       "       JPX_Platinum_Standard_Futures_Open  ...    FX_GBPCAD    FX_CADCHF  \\\n",
       "count                         1961.000000  ...  1961.000000  1961.000000   \n",
       "mean                          3770.585161  ...     1.710787     0.703105   \n",
       "std                            773.928456  ...     0.067369     0.049470   \n",
       "min                              0.000000  ...     1.472061     0.579407   \n",
       "25%                           3152.000000  ...     1.684365     0.663481   \n",
       "50%                           3796.000000  ...     1.713406     0.719225   \n",
       "75%                           4328.000000  ...     1.743424     0.744981   \n",
       "max                           6280.000000  ...     1.881218     0.788635   \n",
       "\n",
       "         FX_NZDCAD    FX_NZDCHF    FX_ZAREUR    FX_NOKGBP    FX_NOKCHF  \\\n",
       "count  1961.000000  1961.000000  1961.000000  1961.000000  1961.000000   \n",
       "mean      0.856095     0.602847     0.056007     0.082366     0.099372   \n",
       "std       0.036205     0.059288     0.005752     0.007005     0.013947   \n",
       "min       0.767636     0.466372     0.045552     0.069614     0.076132   \n",
       "25%       0.825814     0.546662     0.050591     0.074915     0.084064   \n",
       "50%       0.853417     0.615227     0.056036     0.083721     0.101440   \n",
       "75%       0.883287     0.649179     0.060573     0.087033     0.109417   \n",
       "max       0.950091     0.710020     0.070469     0.094472     0.125403   \n",
       "\n",
       "         FX_ZARCHF    FX_NOKJPY    FX_ZARGBP  \n",
       "count  1961.000000  1961.000000  1961.000000  \n",
       "mean      0.058701    13.096718     0.048583  \n",
       "std       0.009828     0.969003     0.005338  \n",
       "min       0.042087     9.618859     0.039464  \n",
       "25%       0.048954    12.546578     0.043391  \n",
       "50%       0.058030    13.266953     0.048661  \n",
       "75%       0.066195    13.808442     0.052472  \n",
       "max       0.081612    15.314668     0.062025  \n",
       "\n",
       "[8 rows x 558 columns]"
      ],
      "text/html": [
       "<div>\n",
       "<style scoped>\n",
       "    .dataframe tbody tr th:only-of-type {\n",
       "        vertical-align: middle;\n",
       "    }\n",
       "\n",
       "    .dataframe tbody tr th {\n",
       "        vertical-align: top;\n",
       "    }\n",
       "\n",
       "    .dataframe thead th {\n",
       "        text-align: right;\n",
       "    }\n",
       "</style>\n",
       "<table border=\"1\" class=\"dataframe\">\n",
       "  <thead>\n",
       "    <tr style=\"text-align: right;\">\n",
       "      <th></th>\n",
       "      <th>date_id</th>\n",
       "      <th>LME_AH_Close</th>\n",
       "      <th>LME_CA_Close</th>\n",
       "      <th>LME_PB_Close</th>\n",
       "      <th>LME_ZS_Close</th>\n",
       "      <th>JPX_Gold_Mini_Futures_Open</th>\n",
       "      <th>JPX_Gold_Rolling-Spot_Futures_Open</th>\n",
       "      <th>JPX_Gold_Standard_Futures_Open</th>\n",
       "      <th>JPX_Platinum_Mini_Futures_Open</th>\n",
       "      <th>JPX_Platinum_Standard_Futures_Open</th>\n",
       "      <th>...</th>\n",
       "      <th>FX_GBPCAD</th>\n",
       "      <th>FX_CADCHF</th>\n",
       "      <th>FX_NZDCAD</th>\n",
       "      <th>FX_NZDCHF</th>\n",
       "      <th>FX_ZAREUR</th>\n",
       "      <th>FX_NOKGBP</th>\n",
       "      <th>FX_NOKCHF</th>\n",
       "      <th>FX_ZARCHF</th>\n",
       "      <th>FX_NOKJPY</th>\n",
       "      <th>FX_ZARGBP</th>\n",
       "    </tr>\n",
       "  </thead>\n",
       "  <tbody>\n",
       "    <tr>\n",
       "      <th>count</th>\n",
       "      <td>1961.000000</td>\n",
       "      <td>1961.000000</td>\n",
       "      <td>1961.000000</td>\n",
       "      <td>1961.000000</td>\n",
       "      <td>1961.00000</td>\n",
       "      <td>1961.000000</td>\n",
       "      <td>1961.000000</td>\n",
       "      <td>1961.000000</td>\n",
       "      <td>1961.000000</td>\n",
       "      <td>1961.000000</td>\n",
       "      <td>...</td>\n",
       "      <td>1961.000000</td>\n",
       "      <td>1961.000000</td>\n",
       "      <td>1961.000000</td>\n",
       "      <td>1961.000000</td>\n",
       "      <td>1961.000000</td>\n",
       "      <td>1961.000000</td>\n",
       "      <td>1961.000000</td>\n",
       "      <td>1961.000000</td>\n",
       "      <td>1961.000000</td>\n",
       "      <td>1961.000000</td>\n",
       "    </tr>\n",
       "    <tr>\n",
       "      <th>mean</th>\n",
       "      <td>980.000000</td>\n",
       "      <td>2252.358338</td>\n",
       "      <td>7929.504686</td>\n",
       "      <td>2085.602514</td>\n",
       "      <td>2796.42719</td>\n",
       "      <td>7646.008669</td>\n",
       "      <td>7709.972463</td>\n",
       "      <td>7646.197348</td>\n",
       "      <td>3769.324707</td>\n",
       "      <td>3770.585161</td>\n",
       "      <td>...</td>\n",
       "      <td>1.710787</td>\n",
       "      <td>0.703105</td>\n",
       "      <td>0.856095</td>\n",
       "      <td>0.602847</td>\n",
       "      <td>0.056007</td>\n",
       "      <td>0.082366</td>\n",
       "      <td>0.099372</td>\n",
       "      <td>0.058701</td>\n",
       "      <td>13.096718</td>\n",
       "      <td>0.048583</td>\n",
       "    </tr>\n",
       "    <tr>\n",
       "      <th>std</th>\n",
       "      <td>566.236258</td>\n",
       "      <td>399.043335</td>\n",
       "      <td>1523.980345</td>\n",
       "      <td>183.455254</td>\n",
       "      <td>448.96586</td>\n",
       "      <td>3102.888131</td>\n",
       "      <td>3167.539525</td>\n",
       "      <td>3103.167665</td>\n",
       "      <td>772.398790</td>\n",
       "      <td>773.928456</td>\n",
       "      <td>...</td>\n",
       "      <td>0.067369</td>\n",
       "      <td>0.049470</td>\n",
       "      <td>0.036205</td>\n",
       "      <td>0.059288</td>\n",
       "      <td>0.005752</td>\n",
       "      <td>0.007005</td>\n",
       "      <td>0.013947</td>\n",
       "      <td>0.009828</td>\n",
       "      <td>0.969003</td>\n",
       "      <td>0.005338</td>\n",
       "    </tr>\n",
       "    <tr>\n",
       "      <th>min</th>\n",
       "      <td>0.000000</td>\n",
       "      <td>1462.000000</td>\n",
       "      <td>4630.000000</td>\n",
       "      <td>1585.500000</td>\n",
       "      <td>1815.50000</td>\n",
       "      <td>0.000000</td>\n",
       "      <td>0.000000</td>\n",
       "      <td>0.000000</td>\n",
       "      <td>0.000000</td>\n",
       "      <td>0.000000</td>\n",
       "      <td>...</td>\n",
       "      <td>1.472061</td>\n",
       "      <td>0.579407</td>\n",
       "      <td>0.767636</td>\n",
       "      <td>0.466372</td>\n",
       "      <td>0.045552</td>\n",
       "      <td>0.069614</td>\n",
       "      <td>0.076132</td>\n",
       "      <td>0.042087</td>\n",
       "      <td>9.618859</td>\n",
       "      <td>0.039464</td>\n",
       "    </tr>\n",
       "    <tr>\n",
       "      <th>25%</th>\n",
       "      <td>490.000000</td>\n",
       "      <td>1925.000000</td>\n",
       "      <td>6400.000000</td>\n",
       "      <td>1972.500000</td>\n",
       "      <td>2479.50000</td>\n",
       "      <td>5193.500000</td>\n",
       "      <td>5205.000000</td>\n",
       "      <td>5193.000000</td>\n",
       "      <td>3152.000000</td>\n",
       "      <td>3152.000000</td>\n",
       "      <td>...</td>\n",
       "      <td>1.684365</td>\n",
       "      <td>0.663481</td>\n",
       "      <td>0.825814</td>\n",
       "      <td>0.546662</td>\n",
       "      <td>0.050591</td>\n",
       "      <td>0.074915</td>\n",
       "      <td>0.084064</td>\n",
       "      <td>0.048954</td>\n",
       "      <td>12.546578</td>\n",
       "      <td>0.043391</td>\n",
       "    </tr>\n",
       "    <tr>\n",
       "      <th>50%</th>\n",
       "      <td>980.000000</td>\n",
       "      <td>2246.500000</td>\n",
       "      <td>8267.000000</td>\n",
       "      <td>2070.000000</td>\n",
       "      <td>2773.50000</td>\n",
       "      <td>6611.000000</td>\n",
       "      <td>6646.000000</td>\n",
       "      <td>6613.000000</td>\n",
       "      <td>3791.500000</td>\n",
       "      <td>3796.000000</td>\n",
       "      <td>...</td>\n",
       "      <td>1.713406</td>\n",
       "      <td>0.719225</td>\n",
       "      <td>0.853417</td>\n",
       "      <td>0.615227</td>\n",
       "      <td>0.056036</td>\n",
       "      <td>0.083721</td>\n",
       "      <td>0.101440</td>\n",
       "      <td>0.058030</td>\n",
       "      <td>13.266953</td>\n",
       "      <td>0.048661</td>\n",
       "    </tr>\n",
       "    <tr>\n",
       "      <th>75%</th>\n",
       "      <td>1470.000000</td>\n",
       "      <td>2511.000000</td>\n",
       "      <td>9322.000000</td>\n",
       "      <td>2188.500000</td>\n",
       "      <td>3031.00000</td>\n",
       "      <td>8932.500000</td>\n",
       "      <td>8961.000000</td>\n",
       "      <td>8932.000000</td>\n",
       "      <td>4325.000000</td>\n",
       "      <td>4328.000000</td>\n",
       "      <td>...</td>\n",
       "      <td>1.743424</td>\n",
       "      <td>0.744981</td>\n",
       "      <td>0.883287</td>\n",
       "      <td>0.649179</td>\n",
       "      <td>0.060573</td>\n",
       "      <td>0.087033</td>\n",
       "      <td>0.109417</td>\n",
       "      <td>0.066195</td>\n",
       "      <td>13.808442</td>\n",
       "      <td>0.052472</td>\n",
       "    </tr>\n",
       "    <tr>\n",
       "      <th>max</th>\n",
       "      <td>1960.000000</td>\n",
       "      <td>3849.000000</td>\n",
       "      <td>10889.000000</td>\n",
       "      <td>2681.000000</td>\n",
       "      <td>4498.50000</td>\n",
       "      <td>16270.000000</td>\n",
       "      <td>16400.000000</td>\n",
       "      <td>16277.000000</td>\n",
       "      <td>6272.500000</td>\n",
       "      <td>6280.000000</td>\n",
       "      <td>...</td>\n",
       "      <td>1.881218</td>\n",
       "      <td>0.788635</td>\n",
       "      <td>0.950091</td>\n",
       "      <td>0.710020</td>\n",
       "      <td>0.070469</td>\n",
       "      <td>0.094472</td>\n",
       "      <td>0.125403</td>\n",
       "      <td>0.081612</td>\n",
       "      <td>15.314668</td>\n",
       "      <td>0.062025</td>\n",
       "    </tr>\n",
       "  </tbody>\n",
       "</table>\n",
       "<p>8 rows × 558 columns</p>\n",
       "</div>"
      ]
     },
     "execution_count": 29,
     "metadata": {},
     "output_type": "execute_result"
    }
   ],
   "execution_count": 29
  },
  {
   "metadata": {
    "ExecuteTime": {
     "end_time": "2025-09-11T18:47:53.350568Z",
     "start_time": "2025-09-10T01:42:06.134242Z"
    }
   },
   "cell_type": "code",
   "source": [
    "# 简单的可视化（重点是分布） - Carrie\n",
    "# 需要选择合适的变量：普通变量：价格趋势、收益率分布等等；滞后变量"
   ],
   "id": "ae470f9f914ceea2",
   "outputs": [],
   "execution_count": 13
  },
  {
   "metadata": {
    "ExecuteTime": {
     "end_time": "2025-09-11T18:47:53.353963Z",
     "start_time": "2025-09-10T01:42:06.156074Z"
    }
   },
   "cell_type": "code",
   "source": "",
   "id": "648981dd100d5fad",
   "outputs": [],
   "execution_count": null
  },
  {
   "metadata": {
    "ExecuteTime": {
     "end_time": "2025-09-11T18:47:53.359013Z",
     "start_time": "2025-09-10T01:42:06.165397Z"
    }
   },
   "cell_type": "code",
   "source": "",
   "id": "30dc16d2e609064e",
   "outputs": [],
   "execution_count": null
  },
  {
   "metadata": {
    "ExecuteTime": {
     "end_time": "2025-09-11T18:47:53.368973Z",
     "start_time": "2025-09-10T01:42:06.178349Z"
    }
   },
   "cell_type": "code",
   "source": "",
   "id": "62417260fd846503",
   "outputs": [],
   "execution_count": null
  },
  {
   "metadata": {
    "ExecuteTime": {
     "end_time": "2025-09-11T18:47:53.369400Z",
     "start_time": "2025-09-10T01:42:06.204585Z"
    }
   },
   "cell_type": "code",
   "source": [
    "# 特征选择与降维 - Meng （这里的重点是要压缩特征，因为我们的特征太多了）\n",
    "# 我可能会先用PCA来尝试下，比如不行可能在选择特征重要性评分或者向量机来选择"
   ],
   "id": "92063cb1c777c4af",
   "outputs": [],
   "execution_count": 14
  },
  {
   "metadata": {
    "ExecuteTime": {
     "end_time": "2025-09-11T18:47:53.369628Z",
     "start_time": "2025-09-10T01:42:06.224818Z"
    }
   },
   "cell_type": "code",
   "source": "",
   "id": "afc131465cf16728",
   "outputs": [],
   "execution_count": null
  },
  {
   "metadata": {
    "ExecuteTime": {
     "end_time": "2025-09-11T18:47:53.375011Z",
     "start_time": "2025-09-10T01:42:06.239034Z"
    }
   },
   "cell_type": "code",
   "source": "",
   "id": "b5111b1c4d3de71e",
   "outputs": [],
   "execution_count": null
  },
  {
   "metadata": {
    "ExecuteTime": {
     "end_time": "2025-09-11T18:47:53.375279Z",
     "start_time": "2025-09-10T01:42:06.253560Z"
    }
   },
   "cell_type": "code",
   "source": "",
   "id": "12a6ed72eb73b5bf",
   "outputs": [],
   "execution_count": null
  },
  {
   "metadata": {
    "ExecuteTime": {
     "end_time": "2025-09-11T18:47:53.375398Z",
     "start_time": "2025-09-10T01:42:06.265066Z"
    }
   },
   "cell_type": "code",
   "source": "",
   "id": "c9c1a71ea32ffbb2",
   "outputs": [],
   "execution_count": null
  },
  {
   "metadata": {
    "ExecuteTime": {
     "end_time": "2025-09-11T18:47:53.377770Z",
     "start_time": "2025-09-10T01:42:06.284001Z"
    }
   },
   "cell_type": "code",
   "source": "# 暂时下个礼拜的任务就定在这里",
   "id": "b347e4b15b7a2092",
   "outputs": [],
   "execution_count": 15
  }
 ],
 "metadata": {
  "kernelspec": {
   "display_name": "Python 3",
   "language": "python",
   "name": "python3"
  },
  "language_info": {
   "codemirror_mode": {
    "name": "ipython",
    "version": 2
   },
   "file_extension": ".py",
   "mimetype": "text/x-python",
   "name": "python",
   "nbconvert_exporter": "python",
   "pygments_lexer": "ipython2",
   "version": "2.7.6"
  }
 },
 "nbformat": 4,
 "nbformat_minor": 5
}
