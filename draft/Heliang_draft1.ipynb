{
 "cells": [
  {
   "cell_type": "code",
   "id": "initial_id",
   "metadata": {
    "collapsed": true,
    "ExecuteTime": {
     "end_time": "2025-09-10T16:02:56.828226Z",
     "start_time": "2025-09-10T16:02:56.825286Z"
    }
   },
   "source": [
    "import numpy as np\n",
    "import matplotlib.pyplot as plt\n",
    "import pandas as pd\n",
    "import seaborn as sns"
   ],
   "outputs": [],
   "execution_count": 26
  },
  {
   "metadata": {
    "ExecuteTime": {
     "end_time": "2025-09-10T16:02:56.890492Z",
     "start_time": "2025-09-10T16:02:56.837578Z"
    }
   },
   "cell_type": "code",
   "source": [
    "df = pd.read_csv(\"train.csv\")\n",
    "print(df.shape)\n",
    "print(df.columns[:5])"
   ],
   "id": "9dc373ab248aba6d",
   "outputs": [
    {
     "name": "stdout",
     "output_type": "stream",
     "text": [
      "(1961, 558)\n",
      "Index(['date_id', 'LME_AH_Close', 'LME_CA_Close', 'LME_PB_Close',\n",
      "       'LME_ZS_Close'],\n",
      "      dtype='object')\n"
     ]
    }
   ],
   "execution_count": 27
  },
  {
   "metadata": {
    "ExecuteTime": {
     "end_time": "2025-09-10T16:02:56.904775Z",
     "start_time": "2025-09-10T16:02:56.900011Z"
    }
   },
   "cell_type": "code",
   "source": [
    "\n",
    "price_keywords = ['OPEN', 'CLOSE', 'HIGH', 'LOW']\n",
    "volume_keywords = ['VOLUME', 'VOL']\n",
    "fx_keywords = ['FX_']\n",
    "settle_keywords = ['SETTLE']\n",
    "\n",
    "price_cols = [col for col in df.columns if any(k in col.upper() for k in price_keywords)]\n",
    "volume_cols = [col for col in df.columns if any(k in col.upper() for k in volume_keywords)]\n",
    "fx_cols = [col for col in df.columns if any(k in col for k in fx_keywords)]  # FX是大写带下划线\n",
    "settle_cols = [col for col in df.columns if any(k in col.upper() for k in settle_keywords)]\n",
    "\n",
    "classified_cols = set(price_cols + volume_cols + fx_cols + settle_cols)\n",
    "other_cols = [col for col in df.columns if col not in classified_cols and col != 'date_id']\n",
    "\n",
    "print(f\"📈 价格类字段数：{len(price_cols)}\")\n",
    "print(f\"📊 成交量字段数：{len(volume_cols)}\")\n",
    "print(f\"💱 外汇类字段数：{len(fx_cols)}\")\n",
    "print(f\"📉 结算价字段数：{len(settle_cols)}\")\n",
    "print(f\"❓ 其他未分类字段数：{len(other_cols)}\")\n",
    "\n",
    "print(\"\\n🎯 价格字段示例：\", price_cols[:5])\n",
    "print(\"🎯 成交量字段示例：\", volume_cols[:5])\n",
    "print(\"🎯 外汇字段示例：\", fx_cols[:5])\n",
    "print(\"🎯 结算字段示例：\", settle_cols[:5])\n",
    "print(\"🎯 其他字段示例：\", other_cols[:5])"
   ],
   "id": "b244c890489b7be3",
   "outputs": [
    {
     "name": "stdout",
     "output_type": "stream",
     "text": [
      "📈 价格类字段数：414\n",
      "📊 成交量字段数：101\n",
      "💱 外汇类字段数：38\n",
      "📉 结算价字段数：4\n",
      "❓ 其他未分类字段数：0\n",
      "\n",
      "🎯 价格字段示例： ['LME_AH_Close', 'LME_CA_Close', 'LME_PB_Close', 'LME_ZS_Close', 'JPX_Gold_Mini_Futures_Open']\n",
      "🎯 成交量字段示例： ['JPX_Gold_Mini_Futures_Volume', 'JPX_Gold_Rolling-Spot_Futures_Volume', 'JPX_Gold_Standard_Futures_Volume', 'JPX_Platinum_Mini_Futures_Volume', 'JPX_Platinum_Standard_Futures_Volume']\n",
      "🎯 外汇字段示例： ['FX_AUDJPY', 'FX_AUDUSD', 'FX_CADJPY', 'FX_CHFJPY', 'FX_EURAUD']\n",
      "🎯 结算字段示例： ['JPX_Gold_Mini_Futures_settlement_price', 'JPX_Gold_Rolling-Spot_Futures_settlement_price', 'JPX_Platinum_Mini_Futures_settlement_price', 'JPX_RSS3_Rubber_Futures_settlement_price']\n",
      "🎯 其他字段示例： []\n"
     ]
    }
   ],
   "execution_count": 28
  },
  {
   "metadata": {
    "ExecuteTime": {
     "end_time": "2025-09-10T16:02:56.923474Z",
     "start_time": "2025-09-10T16:02:56.920394Z"
    }
   },
   "cell_type": "code",
   "source": [
    "total_cells = df.size\n",
    "total_missing = df.isna().sum().sum()\n",
    "print(f\"总单元格数: {total_cells:,}\")\n",
    "print(f\"总缺失数:   {total_missing:,}\")\n",
    "print(f\"总体缺失率: {total_missing / total_cells:.2%}\")"
   ],
   "id": "a2f68d68a74c96ef",
   "outputs": [
    {
     "name": "stdout",
     "output_type": "stream",
     "text": [
      "总单元格数: 1,094,238\n",
      "总缺失数:   45,054\n",
      "总体缺失率: 4.12%\n"
     ]
    }
   ],
   "execution_count": 29
  },
  {
   "metadata": {
    "ExecuteTime": {
     "end_time": "2025-09-10T16:02:56.936629Z",
     "start_time": "2025-09-10T16:02:56.930445Z"
    }
   },
   "cell_type": "code",
   "source": [
    "miss_cnt = df.isna().sum()\n",
    "miss_rate = df.isna().mean()\n",
    "\n",
    "miss_summary = (\n",
    "    pd.DataFrame({\n",
    "        \"n_missing\": miss_cnt,\n",
    "        \"missing_rate\": miss_rate,\n",
    "        \"dtype\": df.dtypes\n",
    "    })\n",
    "    .sort_values(\"missing_rate\", ascending=False)\n",
    ")\n",
    "\n",
    "# 仅看有缺失的列（前20个）\n",
    "miss_summary_nonzero = miss_summary[miss_summary[\"n_missing\"] > 0]\n",
    "display(miss_summary_nonzero.head(20))\n",
    "\n",
    "# 有缺失的列数量\n",
    "print(\"有缺失的列数：\", (miss_cnt > 0).sum())"
   ],
   "id": "3098a5bb86e05292",
   "outputs": [
    {
     "data": {
      "text/plain": [
       "                                                n_missing  missing_rate  \\\n",
       "US_Stock_GOLD_adj_open                               1713      0.873534   \n",
       "US_Stock_GOLD_adj_close                              1713      0.873534   \n",
       "US_Stock_GOLD_adj_low                                1713      0.873534   \n",
       "US_Stock_GOLD_adj_high                               1713      0.873534   \n",
       "US_Stock_GOLD_adj_volume                             1713      0.873534   \n",
       "JPX_Gold_Mini_Futures_settlement_price                116      0.059153   \n",
       "JPX_Platinum_Standard_Futures_Close                   116      0.059153   \n",
       "JPX_RSS3_Rubber_Futures_Close                         116      0.059153   \n",
       "JPX_Gold_Mini_Futures_Volume                          116      0.059153   \n",
       "JPX_Gold_Rolling-Spot_Futures_Volume                  116      0.059153   \n",
       "JPX_Gold_Standard_Futures_Volume                      116      0.059153   \n",
       "JPX_Platinum_Mini_Futures_Volume                      116      0.059153   \n",
       "JPX_Platinum_Standard_Futures_Volume                  116      0.059153   \n",
       "JPX_RSS3_Rubber_Futures_Volume                        116      0.059153   \n",
       "JPX_Platinum_Mini_Futures_settlement_price            116      0.059153   \n",
       "JPX_Gold_Rolling-Spot_Futures_settlement_price        116      0.059153   \n",
       "JPX_Gold_Standard_Futures_Close                       116      0.059153   \n",
       "JPX_RSS3_Rubber_Futures_settlement_price              116      0.059153   \n",
       "JPX_Gold_Rolling-Spot_Futures_open_interest           116      0.059153   \n",
       "JPX_Gold_Standard_Futures_open_interest               116      0.059153   \n",
       "\n",
       "                                                  dtype  \n",
       "US_Stock_GOLD_adj_open                          float64  \n",
       "US_Stock_GOLD_adj_close                         float64  \n",
       "US_Stock_GOLD_adj_low                           float64  \n",
       "US_Stock_GOLD_adj_high                          float64  \n",
       "US_Stock_GOLD_adj_volume                        float64  \n",
       "JPX_Gold_Mini_Futures_settlement_price          float64  \n",
       "JPX_Platinum_Standard_Futures_Close             float64  \n",
       "JPX_RSS3_Rubber_Futures_Close                   float64  \n",
       "JPX_Gold_Mini_Futures_Volume                    float64  \n",
       "JPX_Gold_Rolling-Spot_Futures_Volume            float64  \n",
       "JPX_Gold_Standard_Futures_Volume                float64  \n",
       "JPX_Platinum_Mini_Futures_Volume                float64  \n",
       "JPX_Platinum_Standard_Futures_Volume            float64  \n",
       "JPX_RSS3_Rubber_Futures_Volume                  float64  \n",
       "JPX_Platinum_Mini_Futures_settlement_price      float64  \n",
       "JPX_Gold_Rolling-Spot_Futures_settlement_price  float64  \n",
       "JPX_Gold_Standard_Futures_Close                 float64  \n",
       "JPX_RSS3_Rubber_Futures_settlement_price        float64  \n",
       "JPX_Gold_Rolling-Spot_Futures_open_interest     float64  \n",
       "JPX_Gold_Standard_Futures_open_interest         float64  "
      ],
      "text/html": [
       "<div>\n",
       "<style scoped>\n",
       "    .dataframe tbody tr th:only-of-type {\n",
       "        vertical-align: middle;\n",
       "    }\n",
       "\n",
       "    .dataframe tbody tr th {\n",
       "        vertical-align: top;\n",
       "    }\n",
       "\n",
       "    .dataframe thead th {\n",
       "        text-align: right;\n",
       "    }\n",
       "</style>\n",
       "<table border=\"1\" class=\"dataframe\">\n",
       "  <thead>\n",
       "    <tr style=\"text-align: right;\">\n",
       "      <th></th>\n",
       "      <th>n_missing</th>\n",
       "      <th>missing_rate</th>\n",
       "      <th>dtype</th>\n",
       "    </tr>\n",
       "  </thead>\n",
       "  <tbody>\n",
       "    <tr>\n",
       "      <th>US_Stock_GOLD_adj_open</th>\n",
       "      <td>1713</td>\n",
       "      <td>0.873534</td>\n",
       "      <td>float64</td>\n",
       "    </tr>\n",
       "    <tr>\n",
       "      <th>US_Stock_GOLD_adj_close</th>\n",
       "      <td>1713</td>\n",
       "      <td>0.873534</td>\n",
       "      <td>float64</td>\n",
       "    </tr>\n",
       "    <tr>\n",
       "      <th>US_Stock_GOLD_adj_low</th>\n",
       "      <td>1713</td>\n",
       "      <td>0.873534</td>\n",
       "      <td>float64</td>\n",
       "    </tr>\n",
       "    <tr>\n",
       "      <th>US_Stock_GOLD_adj_high</th>\n",
       "      <td>1713</td>\n",
       "      <td>0.873534</td>\n",
       "      <td>float64</td>\n",
       "    </tr>\n",
       "    <tr>\n",
       "      <th>US_Stock_GOLD_adj_volume</th>\n",
       "      <td>1713</td>\n",
       "      <td>0.873534</td>\n",
       "      <td>float64</td>\n",
       "    </tr>\n",
       "    <tr>\n",
       "      <th>JPX_Gold_Mini_Futures_settlement_price</th>\n",
       "      <td>116</td>\n",
       "      <td>0.059153</td>\n",
       "      <td>float64</td>\n",
       "    </tr>\n",
       "    <tr>\n",
       "      <th>JPX_Platinum_Standard_Futures_Close</th>\n",
       "      <td>116</td>\n",
       "      <td>0.059153</td>\n",
       "      <td>float64</td>\n",
       "    </tr>\n",
       "    <tr>\n",
       "      <th>JPX_RSS3_Rubber_Futures_Close</th>\n",
       "      <td>116</td>\n",
       "      <td>0.059153</td>\n",
       "      <td>float64</td>\n",
       "    </tr>\n",
       "    <tr>\n",
       "      <th>JPX_Gold_Mini_Futures_Volume</th>\n",
       "      <td>116</td>\n",
       "      <td>0.059153</td>\n",
       "      <td>float64</td>\n",
       "    </tr>\n",
       "    <tr>\n",
       "      <th>JPX_Gold_Rolling-Spot_Futures_Volume</th>\n",
       "      <td>116</td>\n",
       "      <td>0.059153</td>\n",
       "      <td>float64</td>\n",
       "    </tr>\n",
       "    <tr>\n",
       "      <th>JPX_Gold_Standard_Futures_Volume</th>\n",
       "      <td>116</td>\n",
       "      <td>0.059153</td>\n",
       "      <td>float64</td>\n",
       "    </tr>\n",
       "    <tr>\n",
       "      <th>JPX_Platinum_Mini_Futures_Volume</th>\n",
       "      <td>116</td>\n",
       "      <td>0.059153</td>\n",
       "      <td>float64</td>\n",
       "    </tr>\n",
       "    <tr>\n",
       "      <th>JPX_Platinum_Standard_Futures_Volume</th>\n",
       "      <td>116</td>\n",
       "      <td>0.059153</td>\n",
       "      <td>float64</td>\n",
       "    </tr>\n",
       "    <tr>\n",
       "      <th>JPX_RSS3_Rubber_Futures_Volume</th>\n",
       "      <td>116</td>\n",
       "      <td>0.059153</td>\n",
       "      <td>float64</td>\n",
       "    </tr>\n",
       "    <tr>\n",
       "      <th>JPX_Platinum_Mini_Futures_settlement_price</th>\n",
       "      <td>116</td>\n",
       "      <td>0.059153</td>\n",
       "      <td>float64</td>\n",
       "    </tr>\n",
       "    <tr>\n",
       "      <th>JPX_Gold_Rolling-Spot_Futures_settlement_price</th>\n",
       "      <td>116</td>\n",
       "      <td>0.059153</td>\n",
       "      <td>float64</td>\n",
       "    </tr>\n",
       "    <tr>\n",
       "      <th>JPX_Gold_Standard_Futures_Close</th>\n",
       "      <td>116</td>\n",
       "      <td>0.059153</td>\n",
       "      <td>float64</td>\n",
       "    </tr>\n",
       "    <tr>\n",
       "      <th>JPX_RSS3_Rubber_Futures_settlement_price</th>\n",
       "      <td>116</td>\n",
       "      <td>0.059153</td>\n",
       "      <td>float64</td>\n",
       "    </tr>\n",
       "    <tr>\n",
       "      <th>JPX_Gold_Rolling-Spot_Futures_open_interest</th>\n",
       "      <td>116</td>\n",
       "      <td>0.059153</td>\n",
       "      <td>float64</td>\n",
       "    </tr>\n",
       "    <tr>\n",
       "      <th>JPX_Gold_Standard_Futures_open_interest</th>\n",
       "      <td>116</td>\n",
       "      <td>0.059153</td>\n",
       "      <td>float64</td>\n",
       "    </tr>\n",
       "  </tbody>\n",
       "</table>\n",
       "</div>"
      ]
     },
     "metadata": {},
     "output_type": "display_data"
    },
    {
     "name": "stdout",
     "output_type": "stream",
     "text": [
      "有缺失的列数： 519\n"
     ]
    }
   ],
   "execution_count": 30
  },
  {
   "metadata": {
    "ExecuteTime": {
     "end_time": "2025-09-10T16:02:56.957474Z",
     "start_time": "2025-09-10T16:02:56.953556Z"
    }
   },
   "cell_type": "code",
   "source": [
    "row_missing_cnt = df.isna().sum(axis=1)\n",
    "print(\"含任意缺失的行比例：\", (row_missing_cnt > 0).mean())\n",
    "print(\"单行最大缺失列数：\", int(row_missing_cnt.max()))\n",
    "print(\"缺失最多的前5行索引：\", row_missing_cnt.sort_values(ascending=False).head(5).index.tolist())"
   ],
   "id": "95ee53e87a427709",
   "outputs": [
    {
     "name": "stdout",
     "output_type": "stream",
     "text": [
      "含任意缺失的行比例： 0.8827129015808262\n",
      "单行最大缺失列数： 515\n",
      "缺失最多的前5行索引： [1529, 1551, 1892, 1811, 621]\n"
     ]
    }
   ],
   "execution_count": 31
  },
  {
   "metadata": {
    "ExecuteTime": {
     "end_time": "2025-09-10T16:02:57.042449Z",
     "start_time": "2025-09-10T16:02:56.985988Z"
    }
   },
   "cell_type": "code",
   "source": [
    "# 保证时间顺序排列（若已有排序可略）\n",
    "df = df.sort_values(\"date_id\")\n",
    "\n",
    "# 选出价格类、汇率类、成交量类等时间连续变量（可按你们定义修改）\n",
    "price_related_cols = [\n",
    "    col for col in df.columns\n",
    "    if any(key in col for key in ['GOLD', 'LME', 'JPX', 'US_Stock', 'FX_', 'SETTLE', 'VOLUME'])\n",
    "]\n",
    "\n",
    "# 仅对这些列做前向填充 + 后向填充\n",
    "df[price_related_cols] = df[price_related_cols].ffill()\n",
    "df[price_related_cols] = df[price_related_cols].bfill()\n",
    "\n",
    "# 检查是否仍有缺失值（列层面）\n",
    "remaining_missing = df[price_related_cols].isnull().sum()\n",
    "print(\"仍有缺失的字段（如有）：\")\n",
    "print(remaining_missing[remaining_missing > 0])"
   ],
   "id": "7bd3c03894149a4",
   "outputs": [
    {
     "name": "stdout",
     "output_type": "stream",
     "text": [
      "仍有缺失的字段（如有）：\n",
      "Series([], dtype: int64)\n"
     ]
    }
   ],
   "execution_count": 32
  },
  {
   "metadata": {
    "ExecuteTime": {
     "end_time": "2025-09-10T16:13:31.548294Z",
     "start_time": "2025-09-10T16:13:31.533756Z"
    }
   },
   "cell_type": "code",
   "source": [
    "total_missing = df.isnull().sum().sum()\n",
    "print(f\"✅ 总缺失值数量: {total_missing}\")"
   ],
   "id": "281ff70fc156e3fa",
   "outputs": [
    {
     "name": "stdout",
     "output_type": "stream",
     "text": [
      "✅ 总缺失值数量: 0\n"
     ]
    }
   ],
   "execution_count": 35
  }
 ],
 "metadata": {
  "kernelspec": {
   "display_name": "Python 3",
   "language": "python",
   "name": "python3"
  },
  "language_info": {
   "codemirror_mode": {
    "name": "ipython",
    "version": 2
   },
   "file_extension": ".py",
   "mimetype": "text/x-python",
   "name": "python",
   "nbconvert_exporter": "python",
   "pygments_lexer": "ipython2",
   "version": "2.7.6"
  }
 },
 "nbformat": 4,
 "nbformat_minor": 5
}
